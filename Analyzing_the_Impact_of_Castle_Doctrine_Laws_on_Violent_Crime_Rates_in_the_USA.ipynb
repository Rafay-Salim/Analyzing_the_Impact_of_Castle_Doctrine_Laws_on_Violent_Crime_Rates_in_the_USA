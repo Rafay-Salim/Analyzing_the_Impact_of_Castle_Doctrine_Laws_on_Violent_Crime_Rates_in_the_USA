{
 "cells": [
  {
   "cell_type": "markdown",
   "metadata": {
    "id": "CbrgY6Wh4K3s"
   },
   "source": [
    "# **Analyzing the Impact of Castle Doctrine Laws on Violent Crime Rates in the USA**\n",
    "\n",
    "![fbi.jpg](fbi.jpg)\n",
    "## **Introduction**\n",
    "\n",
    "The **Castle Doctrine** is a legal principle that grants individuals the right to use reasonable force, including deadly force, to defend themselves against an intruder within their own homes. Rooted in the notion that one's home is their \"castle,\" these laws eliminate the duty to retreat before using force in self-defense. Proponents argue that the Castle Doctrine empowers lawful homeowners to protect themselves and deters criminal activity, while critics express concerns that such laws may escalate violence and lead to an increase in homicides.\n",
    "\n",
    "Understanding the **causal relationship** between the implementation of Castle Doctrine laws and changes in violent crime rates is crucial for policymakers, law enforcement agencies, and communities. By analyzing this relationship, we can assess whether these laws effectively reduce crime or inadvertently contribute to higher rates of violence.\n",
    "\n",
    "## **Dataset Overview**\n",
    "\n",
    "This analysis utilizes a comprehensive dataset from the **FBI**, encompassing various states over multiple years. The dataset captures a wide range of variables related to violent crimes, socioeconomic conditions, and demographic factors. Notably, the implementation of Castle Doctrine laws occurred at different times across states, with the majority adopting these statutes around **2006**. This staggered adoption provides a unique opportunity to employ robust methodologies to isolate the effect of these laws on violent crime rates.\n",
    "\n",
    "### **Selected Columns for Analysis**\n",
    "\n",
    "For a focused and meaningful analysis, we restrict our examination to the following columns from the dataset:\n",
    "\n",
    "| **Column**         | **Description**                                                                                                                                                                                                                 |\n",
    "|--------------------|---------------------------------------------------------------------------------------------------------------------------------------------------------------------------------------------------------------------------------|\n",
    "| `year`             | The calendar year of the observation (e.g., 2005, 2010).                                                                                                                                                                       |\n",
    "| `post`             | A binary indicator where `1` signifies the post-treatment period (after the implementation of Castle Doctrine laws) and `0` denotes the pre-treatment period.                                                                    |\n",
    "| `sid`              | The state identifier, uniquely representing each state in the dataset.                                                                                                                                                       |\n",
    "| `homicide`         | The number of homicides recorded in the state per 100,000 population for the given year.                                                                                                                                       |\n",
    "| `robbery`          | The number of robberies reported in the state per 100,000 population for the given year.                                                                                                                                        |\n",
    "| `larceny`          | The number of larcenies recorded in the state per 100,000 population for the given year.                                                                                                                                        |\n",
    "| `assault`          | The number of aggravated assaults reported in the state per 100,000 population for the given year.                                                                                                                              |\n",
    "| `burglary`         | The number of burglaries recorded in the state per 100,000 population for the given year.\n",
    "| `l_exp_pubwelfare`         | Logged public welfare spending                                                                                                                                        |\n",
    "| `l_police`         | Logged police presence                                                                                                                                        |\n",
    "| `l_income`         | Logged income                                                                                                                                        |\n",
    "\n",
    "| `murder`           | The number of murders reported in the state per 100,000 population for the given year.                                                                                                                                          |\n",
    "| `unemployrt`       | The unemployment rate in the state for the given year, serving as an economic indicator.                                                                                                                                          |\n",
    "| `poverty`          | The poverty rate in the state for the given year, reflecting socioeconomic conditions.                                                                                                                                           |\n",
    "| `blackm_15_24`     | The percentage of Black males aged 15-24 in the state for the given year.                                                                                                                                                        |\n",
    "| `whitem_15_24`     | The percentage of White males aged 15-24 in the state for the given year.                                                                                                                                                        |\n",
    "| `popwt`     | Population weight                                                                                                                                                                                                                       |\n",
    "\n",
    "### **Crime Definitions**\n",
    "\n",
    "To ensure clarity in our analysis, it's essential to define each of the key crime-related variables included in our dataset:\n",
    "\n",
    "| **Variable**   | **Definition**                                                                                                                                                                                                                     |\n",
    "|----------------|-------------------------------------------------------------------------------------------------------------------------------------------------------------------------------------------------------------------------------------|\n",
    "| **Homicide**   | **Homicide** is defined as the sum of **murder** and **non-negligent manslaughter**. It represents the total number of intentional killings within a state, normalized per 100,000 state population.                                 |\n",
    "| **Murder**     | **Murder** refers to the unlawful killing of another human being without justification or valid excuse, committed with the necessary intention as defined by the law in a specific jurisdiction.                                           |\n",
    "| **Larceny**    | **Larceny** is the unlawful taking and carrying away of personal property with the intent to deprive the rightful owner of it permanently. It encompasses various forms of theft that do not involve force or intimidation.               |\n",
    "| **Assault**    | **Assault** involves the act of causing physical harm or unwanted physical contact to another person. This includes aggravated assaults, which are more severe and may involve the use of weapons or intent to cause serious injury.       |\n",
    "| **Burglary**   | **Burglary** is the act of illegally entering a building or other areas without permission, typically with the intention of committing a further criminal offense inside. It does not necessarily involve theft or violence.            |\n",
    "| **Robbery**    | **Robbery** is the act of taking property or money from a person through force, intimidation, or threat of violence. Unlike larceny, robbery involves direct confrontation and coercion against the victim.                                |\n",
    "\n",
    "\n",
    "### **Temporal and Spatial Dimensions**\n",
    "\n",
    "The dataset spans multiple states across the United States and covers several years, allowing for a longitudinal analysis of crime trends in relation to the implementation of Castle Doctrine laws. Most states adopted these statutes around **2006**, but the exact year of implementation varies, providing a natural experiment setting to evaluate the laws' impact. By comparing states before and after the adoption period and against states that did not adopt the law during the study period, we can effectively employ different techniques to infer causality.\n",
    "\n",
    "---\n",
    "\n"
   ]
  },
  {
   "cell_type": "code",
   "execution_count": null,
   "metadata": {
    "id": "9SBOy7kb4K3z"
   },
   "outputs": [],
   "source": [
    "#import as needed\n",
    "import pandas as pd\n",
    "import numpy as np\n",
    "import seaborn as sns\n",
    "import matplotlib.pyplot as plt\n",
    "import statsmodels.api as sm\n",
    "import statsmodels.formula.api as smf"
   ]
  },
  {
   "cell_type": "markdown",
   "metadata": {
    "id": "nOaNKPQp4K30"
   },
   "source": [
    "## Dataset Exploration"
   ]
  },
  {
   "cell_type": "code",
   "execution_count": null,
   "metadata": {
    "id": "hyb-6LRu4K30"
   },
   "outputs": [],
   "source": [
    "# Import dataset\n",
    "df = pd.read_csv(\"castle_doctrine_fbi.csv\")\n"
   ]
  },
  {
   "cell_type": "code",
   "execution_count": null,
   "metadata": {
    "id": "-_asnRFW4K31",
    "outputId": "a9ffccea-c120-422b-b5d2-2a31f2f3f4c5"
   },
   "outputs": [
    {
     "data": {
      "image/png": "[encoded data removed]",
      "text/plain": [
       "<Figure size 2000x1200 with 2 Axes>"
      ]
     },
     "metadata": {},
     "output_type": "display_data"
    }
   ],
   "source": [
    "selected_columns = ['post', 'homicide', 'robbery', 'larceny',\n",
    "                    'assault', 'burglary', 'murder', 'unemployrt','l_exp_pubwelfare' ,'l_police','l_income',\n",
    "                    'poverty', 'blackm_15_24', 'whitem_15_24']\n",
    "\n",
    "#Plot correlation heatmap\n",
    "df_selected = df[selected_columns]\n",
    "corr = df_selected.corr()\n",
    "plt.figure(figsize=(20, 12))\n",
    "sns.heatmap(corr, annot=True, cmap='coolwarm', fmt='.2f')\n",
    "plt.title('Correlation Heatmap of Selected Columns')\n",
    "plt.show()"
   ]
  },
  {
   "cell_type": "markdown",
   "metadata": {
    "id": "emwyrGZV4K33"
   },
   "source": [
    "1. Corelation No.1: \"poverty\" vs \"unemployrt\"\n",
    "    - This is a pretty intuitive and unsuprising corelation as those are unemployed would tend to have lower financial status.\n",
    "    - The two are likely directly causally related as unemployment does often directly lead to poverty\n",
    "    - There could however be a confounding variable like \"l_exp_pubwelfare\" which describes the spending on public welfare and that could also have an effect on the poverty status of an individual as well.\n",
    "2. Correlation No.2: \"l_exp_pubwelfare\" vs \"poverty\"\n",
    "    - There is a moderate corelation l_exp_pubwelfare and poverty. This can be interpretated as such because higher public welfare expenditures might be associated with areas of high poverty because public welfare programs target such regions.\n",
    "    - This is a indirect casual analysis as confounder variables like other policy decisions and economic conditions might also play a role however we should still note that the level of poverty still likely drives welfare expenditure.\n",
    "3. Corelation No.3: \"l_police\" vs \"homicide\":\n",
    "    - There is present, a slight positive contribution between l_police and homicide.\n",
    "    - It is very likely that this is not implying that higher police presence is causing higher homicides in such areas but instead due to higher police expenditure towards regions with higher homicide rates, this makes them allocate more resources to law enforcement and having a higher logged presence specifically in that region.\n",
    "    - This is likely a an indirect relationship, higher homicide rates result in higher police presence and not the opposite. Many any other confounder variables like poverty rates, unemployment rates and just general economic factors such as the public welfare spent can all high a more significant effect on the homicide rates.\n",
    "4. Corelation No.4: 'poverty' vs 'burglary':\n",
    "    - There is quite a high positive corellation between our robbbery and poverty stats.\n",
    "    - Interpreating this corellation, one could come to a possible conclusion that lower poverty rates does result in people in great financial despair thus being unable to fullfil their financial needs. Such people resorting resorting to burglary would then make perfect realistic sense.\n",
    "    - This is a causal relationship however it may be indirect as confounding variables like the police presence in the area or the unemployment of the person (which would affect their poverty level)\n",
    "5. Corelation No.5: 'poverty' vs 'l_income'\n",
    "    - This is a very obvious completely negative corelation.\n",
    "    - It doesn't deserve much explanation as any person who logs their income as higher will obviously have a lower poverty level thus this inverse relationship is shown clearly.\n",
    "    - While the relationship may be obvious/redundant, I still felt that it was important to show just get an idea of the spectrum and the procedure in which we analyze such heatmaps.\n",
    "    - Finally, this is almost definetely direct causal relationship and there should be no confounding variables unless they are forcefully introduced for some other purposes."
   ]
  },
  {
   "cell_type": "markdown",
   "metadata": {
    "id": "ZNYJBhRZ4K33"
   },
   "source": [
    "## **Analyzing the Impact of Castle Doctrine Laws on Homicide Rates**\n",
    "\n",
    "We set out to analyze the impact of Castle Doctrine laws on homicide rates across different states in the United States. This investigation is particularly intriguing as it delves into the delicate balance between individual self-defense rights and broader public safety concerns. By examining whether the implementation of these laws correlates with changes in homicide rates, we aim to uncover insights that could inform policymakers and the community. However, we remain cautious, fully aware of the complexities involved in isolating the law's effect amidst a myriad of confounding factors. Despite these challenges, our analysis strives to navigate these intricacies to shed light on the implications of Castle Doctrine legislation."
   ]
  },
  {
   "cell_type": "code",
   "execution_count": null,
   "metadata": {
    "id": "2AZw6MBK4K34",
    "outputId": "f469c9f0-1073-4073-9a69-31890a63f753"
   },
   "outputs": [
    {
     "name": "stdout",
     "output_type": "stream",
     "text": [
      "1.3488435295735863\n"
     ]
    }
   ],
   "source": [
    "bef_avg_hom = df[df['post'] == 0 ][\"homicide\"].mean()\n",
    "aft_avg_hom = df[df['post'] == 1][\"homicide\"].mean()\n",
    "\n",
    "ATE = aft_avg_hom - bef_avg_hom\n",
    "print(ATE)"
   ]
  },
  {
   "cell_type": "markdown",
   "metadata": {
    "id": "mxLleMkl4K35"
   },
   "source": [
    "\n",
    "Calculate the p-value for the treatment and store it in `p_value`.\n",
    "\n",
    "Comment on the statistical significance of your result. What does this p-value say about homicide rates and the impact of the castle doctrine based on our assumptions? Clearly state your null and alternative hypotheses. Should you reject the null hypothesis?\n"
   ]
  },
  {
   "cell_type": "code",
   "execution_count": null,
   "metadata": {
    "id": "j8dDAwaH4K35",
    "outputId": "39fa417b-d161-4436-8607-05168dc08338"
   },
   "outputs": [
    {
     "data": {
      "text/plain": [
       "6.6291983943435336e-06"
      ]
     },
     "execution_count": 26,
     "metadata": {},
     "output_type": "execute_result"
    }
   ],
   "source": [
    "import pandas as pd\n",
    "from scipy.stats import ttest_ind\n",
    "\n",
    "\n",
    "# Filter and sort by year to get the latest 50 instances for both groups\n",
    "pre_doctrine = df[df['post'] == 0].sort_values(by='year', ascending=False).head(50)['homicide']\n",
    "post_doctrine = df[df['post'] == 1].sort_values(by='year', ascending=False).head(50)['homicide']\n",
    "\n",
    "# Perform independent t-test assuming unequal variances\n",
    "t_stat, p_value = ttest_ind(pre_doctrine,post_doctrine, equal_var=False)\n",
    "p_value\n",
    "\n",
    "# b) As the p-value is less than 0.05, we reject the null hypothesis, indicating that there is a statistically significant difference in homicide rates before and after the doctrine was implemented."
   ]
  },
  {
   "cell_type": "markdown",
   "metadata": {
    "id": "M-3Wuyxz4K36"
   },
   "source": [
    "Calculate the ATE across every state separately.\n",
    "\n",
    "Report the CATE. Store it in the `CATE` variable.\n",
    "\n",
    "Evidence for the **Simpson's Paradox** for any individual state?"
   ]
  },
  {
   "cell_type": "code",
   "execution_count": null,
   "metadata": {
    "id": "SEceHNlT4K36",
    "outputId": "9fa04d09-c787-4a14-8b8e-bad582c083ed"
   },
   "outputs": [
    {
     "name": "stdout",
     "output_type": "stream",
     "text": [
      "    sid  Pre_Treatment_Avg_Homicide  Post_Treatment_Avg_Homicide  ATE_Homicide\n",
      "0     1                    7.461809                     7.239657     -0.222152\n",
      "1     2                    5.490787                     4.528263     -0.962524\n",
      "2     3                    7.665295                     7.133347     -0.531949\n",
      "3    10                    5.506912                     6.041792      0.534881\n",
      "4    11                    7.240239                     6.608315     -0.631924\n",
      "5    15                    5.911693                     5.035126     -0.876567\n",
      "6    17                    4.383397                     4.012131     -0.371267\n",
      "7    18                    4.794723                     4.652908     -0.141815\n",
      "8    19                   12.569534                    12.583059      0.013525\n",
      "9    23                    6.716056                     6.002740     -0.713317\n",
      "10   25                    8.888911                     7.176285     -1.712626\n",
      "11   26                    6.315173                     7.121179      0.806006\n",
      "12   27                    2.944258                     2.642913     -0.301345\n",
      "13   35                    1.352911                     1.386991      0.034080\n",
      "14   36                    4.583821                     4.353694     -0.230128\n",
      "15   37                    5.510655                     5.960620      0.449966\n",
      "16   41                    7.720881                     7.097260     -0.623622\n",
      "17   42                    1.886030                     3.799240      1.913210\n",
      "18   43                    7.076934                     6.655962     -0.420971\n",
      "19   44                    6.220406                     5.455810     -0.764596\n",
      "20   49                    3.620422                     3.996722      0.376300\n",
      "CATE: -0.20842067520786078\n"
     ]
    },
    {
     "data": {
      "text/plain": [
       "-0.20842067520786078"
      ]
     },
     "execution_count": 28,
     "metadata": {},
     "output_type": "execute_result"
    }
   ],
   "source": [
    "states_with_doctrine = df[df['post'] == 1]['sid'].unique()\n",
    "df_filtered = df[df['sid'].isin(states_with_doctrine)]\n",
    "\n",
    "sids = []\n",
    "pre_treatment_avg_homicide = []\n",
    "post_treatment_avg_homicide = []\n",
    "ate_homicide = []\n",
    "\n",
    "for sid, group in df_filtered.groupby('sid'):\n",
    "    pre_avg = group[group['post'] == 0]['homicide'].mean()\n",
    "    post_avg = group[group['post'] == 1]['homicide'].mean()\n",
    "    ate = post_avg - pre_avg\n",
    "\n",
    "    sids.append(sid)\n",
    "    pre_treatment_avg_homicide.append(pre_avg)\n",
    "    post_treatment_avg_homicide.append(post_avg)\n",
    "    ate_homicide.append(ate)\n",
    "\n",
    "DF_CATE_STATE = pd.DataFrame({\n",
    "    'sid': sids,\n",
    "    'Pre_Treatment_Avg_Homicide': pre_treatment_avg_homicide,\n",
    "    'Post_Treatment_Avg_Homicide': post_treatment_avg_homicide,\n",
    "    'ATE_Homicide': ate_homicide\n",
    "})\n",
    "\n",
    "DF_CATE_STATE = DF_CATE_STATE.sort_values(by='sid')\n",
    "\n",
    "CATE = DF_CATE_STATE['ATE_Homicide'].mean()\n",
    "\n",
    "print(DF_CATE_STATE)\n",
    "print(\"CATE:\", CATE)\n",
    "\n",
    "DF_CATE_STATE\n",
    "CATE"
   ]
  },
  {
   "cell_type": "markdown",
   "metadata": {
    "id": "flt68BED4K37"
   },
   "source": [
    "1. State-Level ATEs: In the dataframe, most ATE_Homicide values are negative, suggesting a decrease in the homicide rate after treatment. For example:- State 2 has an ATE_Homicide of -0.962524.\n",
    "            - State 11 has an ATE_Homicide of -0.631924.\n",
    "2. Combined ATE: The overall CATE (mean of ATE_Homicide across all states) is -0.20842, showing a general reduction in the homicide rate after treatment.\n",
    "\n",
    "if you observe that some states with high Pre_Treatment_Avg_Homicide and low treatment effect (ATE_Homicide) disproportionately influence the overall mean, this could lead to Simpson's Paradox such as how State 19 has a high Pre_Treatment_Avg_Homicide (12.569534) but a very low ATE_Homicide (0.013525), which might distort the overall effect when aggregated.\n",
    "\n",
    "This could occur due to a multitude of reasons:\n",
    "1. Confounding Factors: Differences in the population or crime prevention methods between states might bias the results.\n",
    "2. Weighting of Aggregates: States with larger Pre_Treatment_Avg_Homicide might have more influence on the overall trend, even if their ATE_Homicide is small.\n",
    "3. Heterogeneity: The treatment may not be equally effective across all states due to local conditions or policies.\n",
    "\n"
   ]
  },
  {
   "cell_type": "markdown",
   "metadata": {
    "id": "jn1hT51Y4K38"
   },
   "source": [
    "Find the ATE for those states in 2010 (i.e. post treatment group) and 2005 (i.e. pre treatment group),`\n",
    "\n",
    "Report the CATE. Store it in the variable `CATE_Y`\n"
   ]
  },
  {
   "cell_type": "code",
   "execution_count": null,
   "metadata": {
    "id": "gM36sMi44K38",
    "outputId": "a1609096-4dc3-426e-bbbe-62b423c33849"
   },
   "outputs": [
    {
     "name": "stdout",
     "output_type": "stream",
     "text": [
      "    sid  Pre_Treatment_Avg_Homicide  Post_Treatment_Avg_Homicide  ATE_Homicide\n",
      "0     1                    8.418573                     5.742760     -2.675813\n",
      "1     2                    4.986567                     4.427856     -0.558711\n",
      "2     3                    7.633144                     6.445258     -1.187886\n",
      "3    10                    5.079818                     5.285303      0.205485\n",
      "4    11                    6.393730                     5.804785     -0.588945\n",
      "5    15                    5.842414                     4.521347     -1.321067\n",
      "6    17                    3.793262                     3.529431     -0.263831\n",
      "7    18                    4.681379                     4.330973     -0.350407\n",
      "8    19                   10.251161                    11.357343      1.106182\n",
      "9    23                    6.375700                     5.722250     -0.653450\n",
      "10   25                    7.577485                     7.029704     -0.547781\n",
      "11   26                    7.137898                     7.046492     -0.091406\n",
      "12   27                    1.976608                     2.642913      0.666305\n",
      "13   35                    1.968359                     1.502221     -0.466138\n",
      "14   36                    5.288821                     4.129499     -1.159322\n",
      "15   37                    5.446344                     5.247455     -0.198889\n",
      "16   41                    7.632547                     6.106794     -1.525753\n",
      "17   42                    2.412762                     2.848075      0.435313\n",
      "18   43                    7.417491                     5.663577     -1.753914\n",
      "19   44                    6.317870                     5.038462     -1.279408\n",
      "20   49                    4.628192                     3.356155     -1.272037\n",
      "CATE_Y: -0.6419749809523808\n"
     ]
    },
    {
     "data": {
      "text/plain": [
       "-0.6419749809523808"
      ]
     },
     "execution_count": 31,
     "metadata": {},
     "output_type": "execute_result"
    }
   ],
   "source": [
    "# Filter the dataset to include only the states that implemented the doctrine in 2010\n",
    "states_with_doctrine_2010 = df[(df['post'] == 1) & (df['year'] == 2010)]['sid'].unique()\n",
    "df_filtered = df[df['sid'].isin(states_with_doctrine_2010)]\n",
    "\n",
    "# Restrict the analysis to the year 2005 for pre-implementation and 2010 for post-implementation\n",
    "df_pre_2005 = df_filtered[df_filtered['year'] == 2005]\n",
    "df_post_2010 = df_filtered[df_filtered['year'] == 2010]\n",
    "\n",
    "# Initialize lists to store the results\n",
    "sids = []\n",
    "pre_treatment_avg_homicide = []\n",
    "post_treatment_avg_homicide = []\n",
    "ate_homicide = []\n",
    "\n",
    "# Group the data by state and calculate the required values\n",
    "for sid in states_with_doctrine_2010:\n",
    "    pre_avg = df_pre_2005[df_pre_2005['sid'] == sid]['homicide'].mean()\n",
    "    post_avg = df_post_2010[df_post_2010['sid'] == sid]['homicide'].mean()\n",
    "    ate = post_avg - pre_avg\n",
    "\n",
    "    sids.append(sid)\n",
    "    pre_treatment_avg_homicide.append(pre_avg)\n",
    "    post_treatment_avg_homicide.append(post_avg)\n",
    "    ate_homicide.append(ate)\n",
    "\n",
    "# Create the DataFrame\n",
    "DF_CATE_STATE_YEAR = pd.DataFrame({\n",
    "    'sid': sids,\n",
    "    'Pre_Treatment_Avg_Homicide': pre_treatment_avg_homicide,\n",
    "    'Post_Treatment_Avg_Homicide': post_treatment_avg_homicide,\n",
    "    'ATE_Homicide': ate_homicide\n",
    "})\n",
    "\n",
    "# Sort the DataFrame by 'sid'\n",
    "DF_CATE_STATE_YEAR = DF_CATE_STATE_YEAR.sort_values(by='sid')\n",
    "\n",
    "# Calculate the Conditional Average Treatment Effect (CATE)\n",
    "CATE_Y = DF_CATE_STATE_YEAR['ATE_Homicide'].mean()\n",
    "\n",
    "# Print the DataFrame and CATE\n",
    "print(DF_CATE_STATE_YEAR)\n",
    "print(\"CATE_Y:\", CATE_Y)\n",
    "\n",
    "# Store the results in the required variables\n",
    "DF_CATE_STATE_YEAR\n",
    "CATE_Y"
   ]
  },
  {
   "cell_type": "markdown",
   "metadata": {
    "id": "ufWGWGab4K3-"
   },
   "source": [
    "The analysis provides valuable insights into the potential impact of the Castle Doctrine on homicide rates, it The analysis provided calculates the Conditional Average Treatment Effect (CATE) by comparing the average homicide rates before and after the implementation of the Castle Doctrine in 2010 for states that implemented the doctrine.It still may not however fully capture the true causal effect due to several potential limitations and assumptions such as:\n",
    "- There being no other unmeasured Confounders\n",
    "- There being no selection bias\n",
    "- Each state has a non-zero probability of implementing or not implementing the Castle Doctrine thus f some states are highly unlikely to implement the doctrine, the generalisability of the results might be limited.\n",
    "- Consistency as the treatment effect may not be consistent for all states and the affect of the Castle Doctrine might vary across states due to differences in implementation or other contextual factors.\n",
    "\n",
    "\n"
   ]
  },
  {
   "cell_type": "markdown",
   "metadata": {
    "id": "nJxlcRcP4K3-"
   },
   "source": [
    "One of the fundamental Quasi-Experimental methods of measuring the ATE is the difference in difference approach. It allows us to effectively control for both:\n",
    "\n",
    "1. **Time-Invariant Differences:** Any unobserved characteristics that do not change over time, such as cultural factors or baseline law enforcement practices.\n",
    "2. **Common Temporal Trends:** Broader trends affecting all states, like economic shifts or national policy changes.\n",
    "\n",
    "\n",
    "  Mathematically, the **Difference-in-Differences** estimator is expressed as:\n",
    "\n",
    "  $DiD = (\\overline{Y}_{\\text{Post, Treated}} - \\overline{Y}_{\\text{Pre, Treated}}) - (\\overline{Y}_{\\text{Post, Control}} - \\overline{Y}_{\\text{Pre, Control}})$.\n",
    "\n",
    "\n",
    "**a)** Plot an **overlaid line plot** of how the **mean of homicide rate** changes across time for states after and before implementing the doctrine. For reference to how your plot should look like, consult **plot.jpg** in your assignment folder.\n",
    "\n",
    "\n",
    "\n",
    "**b)**  Report the ATE estimated using the DiD formula where:\n",
    "\n",
    "-   Assume the pre-intervention period is 2005, while the post-intervention period is 2010,\n",
    "-   Given **S** defines your set of all states, your treatment group **T** consists of the states that have implemented the doctrine in **2010**, and your control group are the states **S\\T** in **2005** (i.e. the states apart from those incorporated in T)\n",
    "-   Store your result in the `DiD_homicide` variable\n",
    "\n",
    "**c)** Comment on the value of ATE obtained through DiD and the approach we used in the previous part. Which one do you believe is more robust to observing an association between homicide rates and the introdution of the Castle Doctrine?"
   ]
  },
  {
   "cell_type": "code",
   "execution_count": null,
   "metadata": {
    "id": "q6c_YuJx4K3-",
    "outputId": "b31f0666-a4f5-465f-f785-551f013e027f"
   },
   "outputs": [
    {
     "data": {
      "image/png": "[encoded data removed]",
      "text/plain": [
       "<Figure size 1000x600 with 1 Axes>"
      ]
     },
     "metadata": {},
     "output_type": "display_data"
    },
    {
     "name": "stdout",
     "output_type": "stream",
     "text": [
      "DiD_homicide: 0.13131605353037656\n"
     ]
    },
    {
     "data": {
      "text/plain": [
       "0.13131605353037656"
      ]
     },
     "execution_count": 34,
     "metadata": {},
     "output_type": "execute_result"
    }
   ],
   "source": [
    "# Define the treatment group (states that implemented the doctrine in 2010)\n",
    "treatment_states = df[(df['post'] == 1) & (df['year'] == 2010)]['sid'].unique()\n",
    "\n",
    "# Define the control group (states that did not implement the doctrine in 2010)\n",
    "control_states = df[~df['sid'].isin(treatment_states)]['sid'].unique()\n",
    "\n",
    "# Calculate the mean homicide rate for each year for both groups\n",
    "mean_homicide_treatment = df[df['sid'].isin(treatment_states)].groupby('year')['homicide'].mean()\n",
    "mean_homicide_control = df[df['sid'].isin(control_states)].groupby('year')['homicide'].mean()\n",
    "\n",
    "# Plot the mean homicide rates over time for both groups\n",
    "plt.figure(figsize=(10, 6))\n",
    "plt.plot(mean_homicide_treatment.index, mean_homicide_treatment.values, label='Treatment Group', marker='o')\n",
    "plt.plot(mean_homicide_control.index, mean_homicide_control.values, label='Control Group', marker='o')\n",
    "plt.xlabel('Year')\n",
    "plt.ylabel('Mean Homicide Rate')\n",
    "plt.title('Mean Homicide Rate Over Time')\n",
    "plt.legend()\n",
    "plt.grid(True)\n",
    "plt.show()\n",
    "\n",
    "# Calculate the ATE using the DiD formula\n",
    "pre_treatment_2005 = df[(df['year'] == 2005)]\n",
    "post_treatment_2010 = df[(df['year'] == 2010)]\n",
    "\n",
    "mean_pre_treatment_treatment = pre_treatment_2005[pre_treatment_2005['sid'].isin(treatment_states)]['homicide'].mean()\n",
    "mean_post_treatment_treatment = post_treatment_2010[post_treatment_2010['sid'].isin(treatment_states)]['homicide'].mean()\n",
    "\n",
    "mean_pre_treatment_control = pre_treatment_2005[pre_treatment_2005['sid'].isin(control_states)]['homicide'].mean()\n",
    "mean_post_treatment_control = post_treatment_2010[post_treatment_2010['sid'].isin(control_states)]['homicide'].mean()\n",
    "\n",
    "DiD_homicide = (mean_post_treatment_treatment - mean_pre_treatment_treatment) - (mean_post_treatment_control - mean_pre_treatment_control)\n",
    "\n",
    "# Print the DiD result\n",
    "print(\"DiD_homicide:\", DiD_homicide)\n",
    "\n",
    "# Store the result in the required variable\n",
    "DiD_homicide"
   ]
  },
  {
   "cell_type": "markdown",
   "metadata": {
    "id": "bYZHVuKD4K3_"
   },
   "source": [
    "The DiD approach is more robust than the simple pre-post comparison because it controls for both time-invariant differences and common temporal trends. This helps provide a more accurate estimate of the causal effect of the doctrine on homicide rates.\n"
   ]
  },
  {
   "cell_type": "markdown",
   "metadata": {
    "id": "RdKnTnk_4K3_"
   },
   "source": [
    "Lets Calculate the **Difference-in-Differences (DiD)** estimates for the following crime categories:\n",
    "\n",
    "- **Murder**\n",
    "- **Robbery**\n",
    "- **Larceny**\n",
    "- **Assault**\n",
    "\n",
    "Using the same DiD formula as previously defined, perform the calculations for each of these crime types to assess whether the implementation of Castle Doctrine laws is associated with a significant change in their respective rates.\n",
    "\n",
    "a) **Report the DiD Estimates:**\n",
    "\n",
    "b) **Interpret the Results:**\n"
   ]
  },
  {
   "cell_type": "code",
   "execution_count": null,
   "metadata": {
    "id": "4UM0t0_o4K4A",
    "outputId": "e9337a6b-f18c-4efb-c905-3f78388e5947"
   },
   "outputs": [
    {
     "name": "stdout",
     "output_type": "stream",
     "text": [
      "DiD_murder: 0.15640436305418648\n",
      "DiD_robbery: -2.583372701149443\n",
      "DiD_larceny: -0.6787267651893671\n",
      "DiD_assault: -4.630575024630616\n"
     ]
    },
    {
     "data": {
      "text/plain": [
       "-4.630575024630616"
      ]
     },
     "execution_count": 36,
     "metadata": {},
     "output_type": "execute_result"
    }
   ],
   "source": [
    "\n",
    "# Define the treatment group (states that implemented the doctrine in 2010)\n",
    "treatment_states = df[(df['post'] == 1) & (df['year'] == 2010)]['sid'].unique()\n",
    "\n",
    "# Define the control group (states that did not implement the doctrine in 2010)\n",
    "control_states = df[~df['sid'].isin(treatment_states)]['sid'].unique()\n",
    "\n",
    "# Calculate the DiD estimates for each crime category\n",
    "\n",
    "# Murder\n",
    "pre_treatment_2005 = df[(df['year'] == 2005)]\n",
    "post_treatment_2010 = df[(df['year'] == 2010)]\n",
    "\n",
    "mean_pre_treatment_treatment_murder = pre_treatment_2005[pre_treatment_2005['sid'].isin(treatment_states)]['murder'].mean()\n",
    "mean_post_treatment_treatment_murder = post_treatment_2010[post_treatment_2010['sid'].isin(treatment_states)]['murder'].mean()\n",
    "\n",
    "mean_pre_treatment_control_murder = pre_treatment_2005[pre_treatment_2005['sid'].isin(control_states)]['murder'].mean()\n",
    "mean_post_treatment_control_murder = post_treatment_2010[post_treatment_2010['sid'].isin(control_states)]['murder'].mean()\n",
    "\n",
    "DiD_murder = (mean_post_treatment_treatment_murder - mean_pre_treatment_treatment_murder) - (mean_post_treatment_control_murder - mean_pre_treatment_control_murder)\n",
    "\n",
    "# Robbery\n",
    "mean_pre_treatment_treatment_robbery = pre_treatment_2005[pre_treatment_2005['sid'].isin(treatment_states)]['robbery'].mean()\n",
    "mean_post_treatment_treatment_robbery = post_treatment_2010[post_treatment_2010['sid'].isin(treatment_states)]['robbery'].mean()\n",
    "\n",
    "mean_pre_treatment_control_robbery = pre_treatment_2005[pre_treatment_2005['sid'].isin(control_states)]['robbery'].mean()\n",
    "mean_post_treatment_control_robbery = post_treatment_2010[post_treatment_2010['sid'].isin(control_states)]['robbery'].mean()\n",
    "\n",
    "DiD_robbery = (mean_post_treatment_treatment_robbery - mean_pre_treatment_treatment_robbery) - (mean_post_treatment_control_robbery - mean_pre_treatment_control_robbery)\n",
    "\n",
    "# Larceny\n",
    "mean_pre_treatment_treatment_larceny = pre_treatment_2005[pre_treatment_2005['sid'].isin(treatment_states)]['larceny'].mean()\n",
    "mean_post_treatment_treatment_larceny = post_treatment_2010[post_treatment_2010['sid'].isin(treatment_states)]['larceny'].mean()\n",
    "\n",
    "mean_pre_treatment_control_larceny = pre_treatment_2005[pre_treatment_2005['sid'].isin(control_states)]['larceny'].mean()\n",
    "mean_post_treatment_control_larceny = post_treatment_2010[post_treatment_2010['sid'].isin(control_states)]['larceny'].mean()\n",
    "\n",
    "DiD_larceny = (mean_post_treatment_treatment_larceny - mean_pre_treatment_treatment_larceny) - (mean_post_treatment_control_larceny - mean_pre_treatment_control_larceny)\n",
    "\n",
    "# Assault\n",
    "mean_pre_treatment_treatment_assault = pre_treatment_2005[pre_treatment_2005['sid'].isin(treatment_states)]['assault'].mean()\n",
    "mean_post_treatment_treatment_assault = post_treatment_2010[post_treatment_2010['sid'].isin(treatment_states)]['assault'].mean()\n",
    "\n",
    "mean_pre_treatment_control_assault = pre_treatment_2005[pre_treatment_2005['sid'].isin(control_states)]['assault'].mean()\n",
    "mean_post_treatment_control_assault = post_treatment_2010[post_treatment_2010['sid'].isin(control_states)]['assault'].mean()\n",
    "\n",
    "DiD_assault = (mean_post_treatment_treatment_assault - mean_pre_treatment_treatment_assault) - (mean_post_treatment_control_assault - mean_pre_treatment_control_assault)\n",
    "\n",
    "# Print the DiD results\n",
    "print(\"DiD_murder:\", DiD_murder)\n",
    "print(\"DiD_robbery:\", DiD_robbery)\n",
    "print(\"DiD_larceny:\", DiD_larceny)\n",
    "print(\"DiD_assault:\", DiD_assault)\n",
    "\n",
    "# Store the results in the required variables\n",
    "DiD_murder\n",
    "DiD_robbery\n",
    "DiD_larceny\n",
    "DiD_assault"
   ]
  },
  {
   "cell_type": "markdown",
   "metadata": {
    "id": "d_89wfuy4K4B"
   },
   "source": [
    "DiD estimates that are positive such as for murder indicate the increase in homicide rates in the treatment group (states that implemented the Castle Doctrine) is greater than the increase in the control group (states that did not implement the Castle Doctrine). This suggests that the Castle Doctrine may be associated with an increase in homicide rates.\n",
    "\n",
    "Secondly, most of the other crimes which had negative DiD Estimates which indicates that the increase in those crime rates in the treatment group is less than the increase in the control group thus suggesting that the Castle Doctrine may be associated with a decrease in crime rates for these crimes."
   ]
  },
  {
   "cell_type": "markdown",
   "metadata": {
    "id": "3NBzkIh04K4B"
   },
   "source": [
    "###  Multivariate Regression\n",
    "\n",
    "We aim to isolate the effect of the Castle Doctrine law on homicide rates, holding all other factors constant. This approach is more robust than simpler comparisons, as it **controls for multiple potential confounding factors** and focuses on within-state changes over time, not just across states.\n",
    "\n",
    "\n"
   ]
  },
  {
   "cell_type": "code",
   "execution_count": null,
   "metadata": {
    "id": "RnMqoZNy4K4C",
    "outputId": "00e391cd-e248-4ccf-be19-1a03f14e7692"
   },
   "outputs": [
    {
     "name": "stderr",
     "output_type": "stream",
     "text": [
      "/opt/anaconda3/lib/python3.11/site-packages/statsmodels/base/model.py:1888: ValueWarning: covariance of constraints does not have full rank. The number of constraints is 65, but rank is 16\n",
      "  warnings.warn('covariance of constraints does not have full '\n"
     ]
    },
    {
     "data": {
      "text/html": [
       "<table class=\"simpletable\">\n",
       "<caption>OLS Regression Results</caption>\n",
       "<tr>\n",
       "  <th>Dep. Variable:</th>        <td>homicide</td>     <th>  R-squared:         </th> <td>   0.934</td>\n",
       "</tr>\n",
       "<tr>\n",
       "  <th>Model:</th>                   <td>OLS</td>       <th>  Adj. R-squared:    </th> <td>   0.925</td>\n",
       "</tr>\n",
       "<tr>\n",
       "  <th>Method:</th>             <td>Least Squares</td>  <th>  F-statistic:       </th> <td>   265.6</td>\n",
       "</tr>\n",
       "<tr>\n",
       "  <th>Date:</th>             <td>Sun, 17 Nov 2024</td> <th>  Prob (F-statistic):</th> <td>6.82e-42</td>\n",
       "</tr>\n",
       "<tr>\n",
       "  <th>Time:</th>                 <td>22:39:29</td>     <th>  Log-Likelihood:    </th> <td> -533.33</td>\n",
       "</tr>\n",
       "<tr>\n",
       "  <th>No. Observations:</th>      <td>   550</td>      <th>  AIC:               </th> <td>   1199.</td>\n",
       "</tr>\n",
       "<tr>\n",
       "  <th>Df Residuals:</th>          <td>   484</td>      <th>  BIC:               </th> <td>   1483.</td>\n",
       "</tr>\n",
       "<tr>\n",
       "  <th>Df Model:</th>              <td>    65</td>      <th>                     </th>     <td> </td>   \n",
       "</tr>\n",
       "<tr>\n",
       "  <th>Covariance Type:</th>       <td>cluster</td>     <th>                     </th>     <td> </td>   \n",
       "</tr>\n",
       "</table>\n",
       "<table class=\"simpletable\">\n",
       "<tr>\n",
       "          <td></td>            <th>coef</th>     <th>std err</th>      <th>z</th>      <th>P>|z|</th>  <th>[0.025</th>    <th>0.975]</th>  \n",
       "</tr>\n",
       "<tr>\n",
       "  <th>Intercept</th>        <td>   -2.7559</td> <td>   13.270</td> <td>   -0.208</td> <td> 0.835</td> <td>  -28.765</td> <td>   23.253</td>\n",
       "</tr>\n",
       "<tr>\n",
       "  <th>C(sid)[T.2]</th>      <td>   -2.8648</td> <td>    0.577</td> <td>   -4.961</td> <td> 0.000</td> <td>   -3.997</td> <td>   -1.733</td>\n",
       "</tr>\n",
       "<tr>\n",
       "  <th>C(sid)[T.3]</th>      <td>   -0.0666</td> <td>    0.191</td> <td>   -0.348</td> <td> 0.728</td> <td>   -0.442</td> <td>    0.309</td>\n",
       "</tr>\n",
       "<tr>\n",
       "  <th>C(sid)[T.4]</th>      <td>   -0.9296</td> <td>    0.197</td> <td>   -4.709</td> <td> 0.000</td> <td>   -1.317</td> <td>   -0.543</td>\n",
       "</tr>\n",
       "<tr>\n",
       "  <th>C(sid)[T.5]</th>      <td>   -1.2519</td> <td>    0.372</td> <td>   -3.364</td> <td> 0.001</td> <td>   -1.981</td> <td>   -0.522</td>\n",
       "</tr>\n",
       "<tr>\n",
       "  <th>C(sid)[T.6]</th>      <td>   -4.1867</td> <td>    0.530</td> <td>   -7.904</td> <td> 0.000</td> <td>   -5.225</td> <td>   -3.149</td>\n",
       "</tr>\n",
       "<tr>\n",
       "  <th>C(sid)[T.7]</th>      <td>   -4.7908</td> <td>    0.597</td> <td>   -8.027</td> <td> 0.000</td> <td>   -5.961</td> <td>   -3.621</td>\n",
       "</tr>\n",
       "<tr>\n",
       "  <th>C(sid)[T.8]</th>      <td>   -3.7973</td> <td>    0.451</td> <td>   -8.428</td> <td> 0.000</td> <td>   -4.680</td> <td>   -2.914</td>\n",
       "</tr>\n",
       "<tr>\n",
       "  <th>C(sid)[T.10]</th>     <td>   -1.8572</td> <td>    0.299</td> <td>   -6.217</td> <td> 0.000</td> <td>   -2.443</td> <td>   -1.272</td>\n",
       "</tr>\n",
       "<tr>\n",
       "  <th>C(sid)[T.11]</th>     <td>   -0.5133</td> <td>    0.208</td> <td>   -2.470</td> <td> 0.014</td> <td>   -0.921</td> <td>   -0.106</td>\n",
       "</tr>\n",
       "<tr>\n",
       "  <th>C(sid)[T.12]</th>     <td>   -5.8375</td> <td>    0.516</td> <td>  -11.320</td> <td> 0.000</td> <td>   -6.848</td> <td>   -4.827</td>\n",
       "</tr>\n",
       "<tr>\n",
       "  <th>C(sid)[T.13]</th>     <td>   -5.3651</td> <td>    0.293</td> <td>  -18.331</td> <td> 0.000</td> <td>   -5.939</td> <td>   -4.791</td>\n",
       "</tr>\n",
       "<tr>\n",
       "  <th>C(sid)[T.14]</th>     <td>   -1.1022</td> <td>    0.379</td> <td>   -2.909</td> <td> 0.004</td> <td>   -1.845</td> <td>   -0.359</td>\n",
       "</tr>\n",
       "<tr>\n",
       "  <th>C(sid)[T.15]</th>     <td>   -1.9371</td> <td>    0.348</td> <td>   -5.569</td> <td> 0.000</td> <td>   -2.619</td> <td>   -1.255</td>\n",
       "</tr>\n",
       "<tr>\n",
       "  <th>C(sid)[T.16]</th>     <td>   -6.1190</td> <td>    0.405</td> <td>  -15.115</td> <td> 0.000</td> <td>   -6.912</td> <td>   -5.325</td>\n",
       "</tr>\n",
       "<tr>\n",
       "  <th>C(sid)[T.17]</th>     <td>   -3.5177</td> <td>    0.398</td> <td>   -8.848</td> <td> 0.000</td> <td>   -4.297</td> <td>   -2.738</td>\n",
       "</tr>\n",
       "<tr>\n",
       "  <th>C(sid)[T.18]</th>     <td>   -2.4976</td> <td>    0.271</td> <td>   -9.224</td> <td> 0.000</td> <td>   -3.028</td> <td>   -1.967</td>\n",
       "</tr>\n",
       "<tr>\n",
       "  <th>C(sid)[T.19]</th>     <td>    5.2024</td> <td>    0.209</td> <td>   24.855</td> <td> 0.000</td> <td>    4.792</td> <td>    5.613</td>\n",
       "</tr>\n",
       "<tr>\n",
       "  <th>C(sid)[T.20]</th>     <td>   -6.0877</td> <td>    0.457</td> <td>  -13.321</td> <td> 0.000</td> <td>   -6.983</td> <td>   -5.192</td>\n",
       "</tr>\n",
       "<tr>\n",
       "  <th>C(sid)[T.21]</th>     <td>    0.9599</td> <td>    0.637</td> <td>    1.506</td> <td> 0.132</td> <td>   -0.289</td> <td>    2.209</td>\n",
       "</tr>\n",
       "<tr>\n",
       "  <th>C(sid)[T.22]</th>     <td>   -5.3160</td> <td>    0.495</td> <td>  -10.738</td> <td> 0.000</td> <td>   -6.286</td> <td>   -4.346</td>\n",
       "</tr>\n",
       "<tr>\n",
       "  <th>C(sid)[T.23]</th>     <td>   -0.9204</td> <td>    0.332</td> <td>   -2.769</td> <td> 0.006</td> <td>   -1.572</td> <td>   -0.269</td>\n",
       "</tr>\n",
       "<tr>\n",
       "  <th>C(sid)[T.24]</th>     <td>   -5.7067</td> <td>    0.542</td> <td>  -10.531</td> <td> 0.000</td> <td>   -6.769</td> <td>   -4.645</td>\n",
       "</tr>\n",
       "<tr>\n",
       "  <th>C(sid)[T.25]</th>     <td>    1.2338</td> <td>    0.402</td> <td>    3.066</td> <td> 0.002</td> <td>    0.445</td> <td>    2.022</td>\n",
       "</tr>\n",
       "<tr>\n",
       "  <th>C(sid)[T.26]</th>     <td>   -1.0548</td> <td>    0.260</td> <td>   -4.064</td> <td> 0.000</td> <td>   -1.564</td> <td>   -0.546</td>\n",
       "</tr>\n",
       "<tr>\n",
       "  <th>C(sid)[T.27]</th>     <td>   -4.4926</td> <td>    0.178</td> <td>  -25.198</td> <td> 0.000</td> <td>   -4.842</td> <td>   -4.143</td>\n",
       "</tr>\n",
       "<tr>\n",
       "  <th>C(sid)[T.28]</th>     <td>   -4.7644</td> <td>    0.393</td> <td>  -12.138</td> <td> 0.000</td> <td>   -5.534</td> <td>   -3.995</td>\n",
       "</tr>\n",
       "<tr>\n",
       "  <th>C(sid)[T.29]</th>     <td>    0.2027</td> <td>    0.613</td> <td>    0.331</td> <td> 0.741</td> <td>   -0.998</td> <td>    1.403</td>\n",
       "</tr>\n",
       "<tr>\n",
       "  <th>C(sid)[T.30]</th>     <td>   -6.7903</td> <td>    0.703</td> <td>   -9.662</td> <td> 0.000</td> <td>   -8.168</td> <td>   -5.413</td>\n",
       "</tr>\n",
       "<tr>\n",
       "  <th>C(sid)[T.31]</th>     <td>   -3.8306</td> <td>    0.658</td> <td>   -5.821</td> <td> 0.000</td> <td>   -5.121</td> <td>   -2.541</td>\n",
       "</tr>\n",
       "<tr>\n",
       "  <th>C(sid)[T.32]</th>     <td>    0.4913</td> <td>    0.307</td> <td>    1.599</td> <td> 0.110</td> <td>   -0.111</td> <td>    1.093</td>\n",
       "</tr>\n",
       "<tr>\n",
       "  <th>C(sid)[T.33]</th>     <td>   -3.2685</td> <td>    0.446</td> <td>   -7.333</td> <td> 0.000</td> <td>   -4.142</td> <td>   -2.395</td>\n",
       "</tr>\n",
       "<tr>\n",
       "  <th>C(sid)[T.34]</th>     <td>   -1.0630</td> <td>    0.174</td> <td>   -6.102</td> <td> 0.000</td> <td>   -1.404</td> <td>   -0.722</td>\n",
       "</tr>\n",
       "<tr>\n",
       "  <th>C(sid)[T.35]</th>     <td>   -6.4109</td> <td>    0.339</td> <td>  -18.906</td> <td> 0.000</td> <td>   -7.075</td> <td>   -5.746</td>\n",
       "</tr>\n",
       "<tr>\n",
       "  <th>C(sid)[T.36]</th>     <td>   -2.9810</td> <td>    0.311</td> <td>   -9.580</td> <td> 0.000</td> <td>   -3.591</td> <td>   -2.371</td>\n",
       "</tr>\n",
       "<tr>\n",
       "  <th>C(sid)[T.37]</th>     <td>   -1.7935</td> <td>    0.079</td> <td>  -22.693</td> <td> 0.000</td> <td>   -1.948</td> <td>   -1.639</td>\n",
       "</tr>\n",
       "<tr>\n",
       "  <th>C(sid)[T.38]</th>     <td>   -5.0209</td> <td>    0.356</td> <td>  -14.098</td> <td> 0.000</td> <td>   -5.719</td> <td>   -4.323</td>\n",
       "</tr>\n",
       "<tr>\n",
       "  <th>C(sid)[T.39]</th>     <td>   -2.0628</td> <td>    0.418</td> <td>   -4.931</td> <td> 0.000</td> <td>   -2.883</td> <td>   -1.243</td>\n",
       "</tr>\n",
       "<tr>\n",
       "  <th>C(sid)[T.40]</th>     <td>   -4.7507</td> <td>    0.437</td> <td>  -10.860</td> <td> 0.000</td> <td>   -5.608</td> <td>   -3.893</td>\n",
       "</tr>\n",
       "<tr>\n",
       "  <th>C(sid)[T.41]</th>     <td>    0.1386</td> <td>    0.150</td> <td>    0.922</td> <td> 0.356</td> <td>   -0.156</td> <td>    0.433</td>\n",
       "</tr>\n",
       "<tr>\n",
       "  <th>C(sid)[T.42]</th>     <td>   -5.0863</td> <td>    0.279</td> <td>  -18.244</td> <td> 0.000</td> <td>   -5.633</td> <td>   -4.540</td>\n",
       "</tr>\n",
       "<tr>\n",
       "  <th>C(sid)[T.43]</th>     <td>   -0.6181</td> <td>    0.219</td> <td>   -2.823</td> <td> 0.005</td> <td>   -1.047</td> <td>   -0.189</td>\n",
       "</tr>\n",
       "<tr>\n",
       "  <th>C(sid)[T.44]</th>     <td>   -1.3432</td> <td>    0.196</td> <td>   -6.860</td> <td> 0.000</td> <td>   -1.727</td> <td>   -0.959</td>\n",
       "</tr>\n",
       "<tr>\n",
       "  <th>C(sid)[T.45]</th>     <td>   -5.6203</td> <td>    0.548</td> <td>  -10.264</td> <td> 0.000</td> <td>   -6.693</td> <td>   -4.547</td>\n",
       "</tr>\n",
       "<tr>\n",
       "  <th>C(sid)[T.46]</th>     <td>   -6.0014</td> <td>    0.487</td> <td>  -12.323</td> <td> 0.000</td> <td>   -6.956</td> <td>   -5.047</td>\n",
       "</tr>\n",
       "<tr>\n",
       "  <th>C(sid)[T.47]</th>     <td>   -2.4681</td> <td>    0.594</td> <td>   -4.152</td> <td> 0.000</td> <td>   -3.633</td> <td>   -1.303</td>\n",
       "</tr>\n",
       "<tr>\n",
       "  <th>C(sid)[T.48]</th>     <td>   -4.4703</td> <td>    0.456</td> <td>   -9.801</td> <td> 0.000</td> <td>   -5.364</td> <td>   -3.576</td>\n",
       "</tr>\n",
       "<tr>\n",
       "  <th>C(sid)[T.49]</th>     <td>   -3.4077</td> <td>    0.395</td> <td>   -8.634</td> <td> 0.000</td> <td>   -4.181</td> <td>   -2.634</td>\n",
       "</tr>\n",
       "<tr>\n",
       "  <th>C(sid)[T.50]</th>     <td>   -4.6808</td> <td>    0.427</td> <td>  -10.952</td> <td> 0.000</td> <td>   -5.518</td> <td>   -3.843</td>\n",
       "</tr>\n",
       "<tr>\n",
       "  <th>C(sid)[T.51]</th>     <td>   -5.3865</td> <td>    0.425</td> <td>  -12.676</td> <td> 0.000</td> <td>   -6.219</td> <td>   -4.554</td>\n",
       "</tr>\n",
       "<tr>\n",
       "  <th>C(year)[T.2001]</th>  <td>    0.1070</td> <td>    0.154</td> <td>    0.697</td> <td> 0.486</td> <td>   -0.194</td> <td>    0.408</td>\n",
       "</tr>\n",
       "<tr>\n",
       "  <th>C(year)[T.2002]</th>  <td>    0.1311</td> <td>    0.205</td> <td>    0.639</td> <td> 0.523</td> <td>   -0.271</td> <td>    0.533</td>\n",
       "</tr>\n",
       "<tr>\n",
       "  <th>C(year)[T.2003]</th>  <td>    0.2613</td> <td>    0.241</td> <td>    1.085</td> <td> 0.278</td> <td>   -0.211</td> <td>    0.733</td>\n",
       "</tr>\n",
       "<tr>\n",
       "  <th>C(year)[T.2004]</th>  <td>    0.1122</td> <td>    0.252</td> <td>    0.445</td> <td> 0.656</td> <td>   -0.382</td> <td>    0.606</td>\n",
       "</tr>\n",
       "<tr>\n",
       "  <th>C(year)[T.2005]</th>  <td>    0.1891</td> <td>    0.283</td> <td>    0.669</td> <td> 0.503</td> <td>   -0.365</td> <td>    0.743</td>\n",
       "</tr>\n",
       "<tr>\n",
       "  <th>C(year)[T.2006]</th>  <td>    0.2481</td> <td>    0.246</td> <td>    1.010</td> <td> 0.312</td> <td>   -0.233</td> <td>    0.729</td>\n",
       "</tr>\n",
       "<tr>\n",
       "  <th>C(year)[T.2007]</th>  <td>    0.2297</td> <td>    0.220</td> <td>    1.045</td> <td> 0.296</td> <td>   -0.201</td> <td>    0.661</td>\n",
       "</tr>\n",
       "<tr>\n",
       "  <th>C(year)[T.2008]</th>  <td>    0.0568</td> <td>    0.231</td> <td>    0.246</td> <td> 0.806</td> <td>   -0.396</td> <td>    0.510</td>\n",
       "</tr>\n",
       "<tr>\n",
       "  <th>C(year)[T.2009]</th>  <td>    0.0676</td> <td>    0.414</td> <td>    0.164</td> <td> 0.870</td> <td>   -0.743</td> <td>    0.878</td>\n",
       "</tr>\n",
       "<tr>\n",
       "  <th>C(year)[T.2010]</th>  <td>   -0.2114</td> <td>    0.388</td> <td>   -0.544</td> <td> 0.586</td> <td>   -0.973</td> <td>    0.550</td>\n",
       "</tr>\n",
       "<tr>\n",
       "  <th>post</th>             <td>    0.1402</td> <td>    0.205</td> <td>    0.683</td> <td> 0.495</td> <td>   -0.262</td> <td>    0.543</td>\n",
       "</tr>\n",
       "<tr>\n",
       "  <th>unemployrt</th>       <td>   -0.0936</td> <td>    0.057</td> <td>   -1.648</td> <td> 0.099</td> <td>   -0.205</td> <td>    0.018</td>\n",
       "</tr>\n",
       "<tr>\n",
       "  <th>poverty</th>          <td>   -0.0530</td> <td>    0.073</td> <td>   -0.730</td> <td> 0.465</td> <td>   -0.195</td> <td>    0.089</td>\n",
       "</tr>\n",
       "<tr>\n",
       "  <th>l_income</th>         <td>    0.5178</td> <td>    1.279</td> <td>    0.405</td> <td> 0.686</td> <td>   -1.990</td> <td>    3.025</td>\n",
       "</tr>\n",
       "<tr>\n",
       "  <th>l_exp_pubwelfare</th> <td>    0.4114</td> <td>    0.590</td> <td>    0.697</td> <td> 0.486</td> <td>   -0.745</td> <td>    1.567</td>\n",
       "</tr>\n",
       "<tr>\n",
       "  <th>l_police</th>         <td>    0.5036</td> <td>    0.560</td> <td>    0.899</td> <td> 0.369</td> <td>   -0.595</td> <td>    1.602</td>\n",
       "</tr>\n",
       "</table>\n",
       "<table class=\"simpletable\">\n",
       "<tr>\n",
       "  <th>Omnibus:</th>       <td>15.735</td> <th>  Durbin-Watson:     </th> <td>   1.589</td>\n",
       "</tr>\n",
       "<tr>\n",
       "  <th>Prob(Omnibus):</th> <td> 0.000</td> <th>  Jarque-Bera (JB):  </th> <td>  27.849</td>\n",
       "</tr>\n",
       "<tr>\n",
       "  <th>Skew:</th>          <td> 0.166</td> <th>  Prob(JB):          </th> <td>8.97e-07</td>\n",
       "</tr>\n",
       "<tr>\n",
       "  <th>Kurtosis:</th>      <td> 4.051</td> <th>  Cond. No.          </th> <td>6.45e+03</td>\n",
       "</tr>\n",
       "</table><br/><br/>Notes:<br/>[1] Standard Errors are robust to cluster correlation (cluster)<br/>[2] The condition number is large, 6.45e+03. This might indicate that there are<br/>strong multicollinearity or other numerical problems."
      ],
      "text/latex": [
       "\\begin{center}\n",
       "\\begin{tabular}{lclc}\n",
       "\\toprule\n",
       "\\textbf{Dep. Variable:}     &     homicide     & \\textbf{  R-squared:         } &     0.934   \\\\\n",
       "\\textbf{Model:}             &       OLS        & \\textbf{  Adj. R-squared:    } &     0.925   \\\\\n",
       "\\textbf{Method:}            &  Least Squares   & \\textbf{  F-statistic:       } &     265.6   \\\\\n",
       "\\textbf{Date:}              & Sun, 17 Nov 2024 & \\textbf{  Prob (F-statistic):} &  6.82e-42   \\\\\n",
       "\\textbf{Time:}              &     22:39:29     & \\textbf{  Log-Likelihood:    } &   -533.33   \\\\\n",
       "\\textbf{No. Observations:}  &         550      & \\textbf{  AIC:               } &     1199.   \\\\\n",
       "\\textbf{Df Residuals:}      &         484      & \\textbf{  BIC:               } &     1483.   \\\\\n",
       "\\textbf{Df Model:}          &          65      & \\textbf{                     } &             \\\\\n",
       "\\textbf{Covariance Type:}   &     cluster      & \\textbf{                     } &             \\\\\n",
       "\\bottomrule\n",
       "\\end{tabular}\n",
       "\\begin{tabular}{lcccccc}\n",
       "                            & \\textbf{coef} & \\textbf{std err} & \\textbf{z} & \\textbf{P$> |$z$|$} & \\textbf{[0.025} & \\textbf{0.975]}  \\\\\n",
       "\\midrule\n",
       "\\textbf{Intercept}          &      -2.7559  &       13.270     &    -0.208  &         0.835        &      -28.765    &       23.253     \\\\\n",
       "\\textbf{C(sid)[T.2]}        &      -2.8648  &        0.577     &    -4.961  &         0.000        &       -3.997    &       -1.733     \\\\\n",
       "\\textbf{C(sid)[T.3]}        &      -0.0666  &        0.191     &    -0.348  &         0.728        &       -0.442    &        0.309     \\\\\n",
       "\\textbf{C(sid)[T.4]}        &      -0.9296  &        0.197     &    -4.709  &         0.000        &       -1.317    &       -0.543     \\\\\n",
       "\\textbf{C(sid)[T.5]}        &      -1.2519  &        0.372     &    -3.364  &         0.001        &       -1.981    &       -0.522     \\\\\n",
       "\\textbf{C(sid)[T.6]}        &      -4.1867  &        0.530     &    -7.904  &         0.000        &       -5.225    &       -3.149     \\\\\n",
       "\\textbf{C(sid)[T.7]}        &      -4.7908  &        0.597     &    -8.027  &         0.000        &       -5.961    &       -3.621     \\\\\n",
       "\\textbf{C(sid)[T.8]}        &      -3.7973  &        0.451     &    -8.428  &         0.000        &       -4.680    &       -2.914     \\\\\n",
       "\\textbf{C(sid)[T.10]}       &      -1.8572  &        0.299     &    -6.217  &         0.000        &       -2.443    &       -1.272     \\\\\n",
       "\\textbf{C(sid)[T.11]}       &      -0.5133  &        0.208     &    -2.470  &         0.014        &       -0.921    &       -0.106     \\\\\n",
       "\\textbf{C(sid)[T.12]}       &      -5.8375  &        0.516     &   -11.320  &         0.000        &       -6.848    &       -4.827     \\\\\n",
       "\\textbf{C(sid)[T.13]}       &      -5.3651  &        0.293     &   -18.331  &         0.000        &       -5.939    &       -4.791     \\\\\n",
       "\\textbf{C(sid)[T.14]}       &      -1.1022  &        0.379     &    -2.909  &         0.004        &       -1.845    &       -0.359     \\\\\n",
       "\\textbf{C(sid)[T.15]}       &      -1.9371  &        0.348     &    -5.569  &         0.000        &       -2.619    &       -1.255     \\\\\n",
       "\\textbf{C(sid)[T.16]}       &      -6.1190  &        0.405     &   -15.115  &         0.000        &       -6.912    &       -5.325     \\\\\n",
       "\\textbf{C(sid)[T.17]}       &      -3.5177  &        0.398     &    -8.848  &         0.000        &       -4.297    &       -2.738     \\\\\n",
       "\\textbf{C(sid)[T.18]}       &      -2.4976  &        0.271     &    -9.224  &         0.000        &       -3.028    &       -1.967     \\\\\n",
       "\\textbf{C(sid)[T.19]}       &       5.2024  &        0.209     &    24.855  &         0.000        &        4.792    &        5.613     \\\\\n",
       "\\textbf{C(sid)[T.20]}       &      -6.0877  &        0.457     &   -13.321  &         0.000        &       -6.983    &       -5.192     \\\\\n",
       "\\textbf{C(sid)[T.21]}       &       0.9599  &        0.637     &     1.506  &         0.132        &       -0.289    &        2.209     \\\\\n",
       "\\textbf{C(sid)[T.22]}       &      -5.3160  &        0.495     &   -10.738  &         0.000        &       -6.286    &       -4.346     \\\\\n",
       "\\textbf{C(sid)[T.23]}       &      -0.9204  &        0.332     &    -2.769  &         0.006        &       -1.572    &       -0.269     \\\\\n",
       "\\textbf{C(sid)[T.24]}       &      -5.7067  &        0.542     &   -10.531  &         0.000        &       -6.769    &       -4.645     \\\\\n",
       "\\textbf{C(sid)[T.25]}       &       1.2338  &        0.402     &     3.066  &         0.002        &        0.445    &        2.022     \\\\\n",
       "\\textbf{C(sid)[T.26]}       &      -1.0548  &        0.260     &    -4.064  &         0.000        &       -1.564    &       -0.546     \\\\\n",
       "\\textbf{C(sid)[T.27]}       &      -4.4926  &        0.178     &   -25.198  &         0.000        &       -4.842    &       -4.143     \\\\\n",
       "\\textbf{C(sid)[T.28]}       &      -4.7644  &        0.393     &   -12.138  &         0.000        &       -5.534    &       -3.995     \\\\\n",
       "\\textbf{C(sid)[T.29]}       &       0.2027  &        0.613     &     0.331  &         0.741        &       -0.998    &        1.403     \\\\\n",
       "\\textbf{C(sid)[T.30]}       &      -6.7903  &        0.703     &    -9.662  &         0.000        &       -8.168    &       -5.413     \\\\\n",
       "\\textbf{C(sid)[T.31]}       &      -3.8306  &        0.658     &    -5.821  &         0.000        &       -5.121    &       -2.541     \\\\\n",
       "\\textbf{C(sid)[T.32]}       &       0.4913  &        0.307     &     1.599  &         0.110        &       -0.111    &        1.093     \\\\\n",
       "\\textbf{C(sid)[T.33]}       &      -3.2685  &        0.446     &    -7.333  &         0.000        &       -4.142    &       -2.395     \\\\\n",
       "\\textbf{C(sid)[T.34]}       &      -1.0630  &        0.174     &    -6.102  &         0.000        &       -1.404    &       -0.722     \\\\\n",
       "\\textbf{C(sid)[T.35]}       &      -6.4109  &        0.339     &   -18.906  &         0.000        &       -7.075    &       -5.746     \\\\\n",
       "\\textbf{C(sid)[T.36]}       &      -2.9810  &        0.311     &    -9.580  &         0.000        &       -3.591    &       -2.371     \\\\\n",
       "\\textbf{C(sid)[T.37]}       &      -1.7935  &        0.079     &   -22.693  &         0.000        &       -1.948    &       -1.639     \\\\\n",
       "\\textbf{C(sid)[T.38]}       &      -5.0209  &        0.356     &   -14.098  &         0.000        &       -5.719    &       -4.323     \\\\\n",
       "\\textbf{C(sid)[T.39]}       &      -2.0628  &        0.418     &    -4.931  &         0.000        &       -2.883    &       -1.243     \\\\\n",
       "\\textbf{C(sid)[T.40]}       &      -4.7507  &        0.437     &   -10.860  &         0.000        &       -5.608    &       -3.893     \\\\\n",
       "\\textbf{C(sid)[T.41]}       &       0.1386  &        0.150     &     0.922  &         0.356        &       -0.156    &        0.433     \\\\\n",
       "\\textbf{C(sid)[T.42]}       &      -5.0863  &        0.279     &   -18.244  &         0.000        &       -5.633    &       -4.540     \\\\\n",
       "\\textbf{C(sid)[T.43]}       &      -0.6181  &        0.219     &    -2.823  &         0.005        &       -1.047    &       -0.189     \\\\\n",
       "\\textbf{C(sid)[T.44]}       &      -1.3432  &        0.196     &    -6.860  &         0.000        &       -1.727    &       -0.959     \\\\\n",
       "\\textbf{C(sid)[T.45]}       &      -5.6203  &        0.548     &   -10.264  &         0.000        &       -6.693    &       -4.547     \\\\\n",
       "\\textbf{C(sid)[T.46]}       &      -6.0014  &        0.487     &   -12.323  &         0.000        &       -6.956    &       -5.047     \\\\\n",
       "\\textbf{C(sid)[T.47]}       &      -2.4681  &        0.594     &    -4.152  &         0.000        &       -3.633    &       -1.303     \\\\\n",
       "\\textbf{C(sid)[T.48]}       &      -4.4703  &        0.456     &    -9.801  &         0.000        &       -5.364    &       -3.576     \\\\\n",
       "\\textbf{C(sid)[T.49]}       &      -3.4077  &        0.395     &    -8.634  &         0.000        &       -4.181    &       -2.634     \\\\\n",
       "\\textbf{C(sid)[T.50]}       &      -4.6808  &        0.427     &   -10.952  &         0.000        &       -5.518    &       -3.843     \\\\\n",
       "\\textbf{C(sid)[T.51]}       &      -5.3865  &        0.425     &   -12.676  &         0.000        &       -6.219    &       -4.554     \\\\\n",
       "\\textbf{C(year)[T.2001]}    &       0.1070  &        0.154     &     0.697  &         0.486        &       -0.194    &        0.408     \\\\\n",
       "\\textbf{C(year)[T.2002]}    &       0.1311  &        0.205     &     0.639  &         0.523        &       -0.271    &        0.533     \\\\\n",
       "\\textbf{C(year)[T.2003]}    &       0.2613  &        0.241     &     1.085  &         0.278        &       -0.211    &        0.733     \\\\\n",
       "\\textbf{C(year)[T.2004]}    &       0.1122  &        0.252     &     0.445  &         0.656        &       -0.382    &        0.606     \\\\\n",
       "\\textbf{C(year)[T.2005]}    &       0.1891  &        0.283     &     0.669  &         0.503        &       -0.365    &        0.743     \\\\\n",
       "\\textbf{C(year)[T.2006]}    &       0.2481  &        0.246     &     1.010  &         0.312        &       -0.233    &        0.729     \\\\\n",
       "\\textbf{C(year)[T.2007]}    &       0.2297  &        0.220     &     1.045  &         0.296        &       -0.201    &        0.661     \\\\\n",
       "\\textbf{C(year)[T.2008]}    &       0.0568  &        0.231     &     0.246  &         0.806        &       -0.396    &        0.510     \\\\\n",
       "\\textbf{C(year)[T.2009]}    &       0.0676  &        0.414     &     0.164  &         0.870        &       -0.743    &        0.878     \\\\\n",
       "\\textbf{C(year)[T.2010]}    &      -0.2114  &        0.388     &    -0.544  &         0.586        &       -0.973    &        0.550     \\\\\n",
       "\\textbf{post}               &       0.1402  &        0.205     &     0.683  &         0.495        &       -0.262    &        0.543     \\\\\n",
       "\\textbf{unemployrt}         &      -0.0936  &        0.057     &    -1.648  &         0.099        &       -0.205    &        0.018     \\\\\n",
       "\\textbf{poverty}            &      -0.0530  &        0.073     &    -0.730  &         0.465        &       -0.195    &        0.089     \\\\\n",
       "\\textbf{l\\_income}          &       0.5178  &        1.279     &     0.405  &         0.686        &       -1.990    &        3.025     \\\\\n",
       "\\textbf{l\\_exp\\_pubwelfare} &       0.4114  &        0.590     &     0.697  &         0.486        &       -0.745    &        1.567     \\\\\n",
       "\\textbf{l\\_police}          &       0.5036  &        0.560     &     0.899  &         0.369        &       -0.595    &        1.602     \\\\\n",
       "\\bottomrule\n",
       "\\end{tabular}\n",
       "\\begin{tabular}{lclc}\n",
       "\\textbf{Omnibus:}       & 15.735 & \\textbf{  Durbin-Watson:     } &    1.589  \\\\\n",
       "\\textbf{Prob(Omnibus):} &  0.000 & \\textbf{  Jarque-Bera (JB):  } &   27.849  \\\\\n",
       "\\textbf{Skew:}          &  0.166 & \\textbf{  Prob(JB):          } & 8.97e-07  \\\\\n",
       "\\textbf{Kurtosis:}      &  4.051 & \\textbf{  Cond. No.          } & 6.45e+03  \\\\\n",
       "\\bottomrule\n",
       "\\end{tabular}\n",
       "%\\caption{OLS Regression Results}\n",
       "\\end{center}\n",
       "\n",
       "Notes: \\newline\n",
       " [1] Standard Errors are robust to cluster correlation (cluster) \\newline\n",
       " [2] The condition number is large, 6.45e+03. This might indicate that there are \\newline\n",
       " strong multicollinearity or other numerical problems."
      ],
      "text/plain": [
       "<class 'statsmodels.iolib.summary.Summary'>\n",
       "\"\"\"\n",
       "                            OLS Regression Results                            \n",
       "==============================================================================\n",
       "Dep. Variable:               homicide   R-squared:                       0.934\n",
       "Model:                            OLS   Adj. R-squared:                  0.925\n",
       "Method:                 Least Squares   F-statistic:                     265.6\n",
       "Date:                Sun, 17 Nov 2024   Prob (F-statistic):           6.82e-42\n",
       "Time:                        22:39:29   Log-Likelihood:                -533.33\n",
       "No. Observations:                 550   AIC:                             1199.\n",
       "Df Residuals:                     484   BIC:                             1483.\n",
       "Df Model:                          65                                         \n",
       "Covariance Type:              cluster                                         \n",
       "====================================================================================\n",
       "                       coef    std err          z      P>|z|      [0.025      0.975]\n",
       "------------------------------------------------------------------------------------\n",
       "Intercept           -2.7559     13.270     -0.208      0.835     -28.765      23.253\n",
       "C(sid)[T.2]         -2.8648      0.577     -4.961      0.000      -3.997      -1.733\n",
       "C(sid)[T.3]         -0.0666      0.191     -0.348      0.728      -0.442       0.309\n",
       "C(sid)[T.4]         -0.9296      0.197     -4.709      0.000      -1.317      -0.543\n",
       "C(sid)[T.5]         -1.2519      0.372     -3.364      0.001      -1.981      -0.522\n",
       "C(sid)[T.6]         -4.1867      0.530     -7.904      0.000      -5.225      -3.149\n",
       "C(sid)[T.7]         -4.7908      0.597     -8.027      0.000      -5.961      -3.621\n",
       "C(sid)[T.8]         -3.7973      0.451     -8.428      0.000      -4.680      -2.914\n",
       "C(sid)[T.10]        -1.8572      0.299     -6.217      0.000      -2.443      -1.272\n",
       "C(sid)[T.11]        -0.5133      0.208     -2.470      0.014      -0.921      -0.106\n",
       "C(sid)[T.12]        -5.8375      0.516    -11.320      0.000      -6.848      -4.827\n",
       "C(sid)[T.13]        -5.3651      0.293    -18.331      0.000      -5.939      -4.791\n",
       "C(sid)[T.14]        -1.1022      0.379     -2.909      0.004      -1.845      -0.359\n",
       "C(sid)[T.15]        -1.9371      0.348     -5.569      0.000      -2.619      -1.255\n",
       "C(sid)[T.16]        -6.1190      0.405    -15.115      0.000      -6.912      -5.325\n",
       "C(sid)[T.17]        -3.5177      0.398     -8.848      0.000      -4.297      -2.738\n",
       "C(sid)[T.18]        -2.4976      0.271     -9.224      0.000      -3.028      -1.967\n",
       "C(sid)[T.19]         5.2024      0.209     24.855      0.000       4.792       5.613\n",
       "C(sid)[T.20]        -6.0877      0.457    -13.321      0.000      -6.983      -5.192\n",
       "C(sid)[T.21]         0.9599      0.637      1.506      0.132      -0.289       2.209\n",
       "C(sid)[T.22]        -5.3160      0.495    -10.738      0.000      -6.286      -4.346\n",
       "C(sid)[T.23]        -0.9204      0.332     -2.769      0.006      -1.572      -0.269\n",
       "C(sid)[T.24]        -5.7067      0.542    -10.531      0.000      -6.769      -4.645\n",
       "C(sid)[T.25]         1.2338      0.402      3.066      0.002       0.445       2.022\n",
       "C(sid)[T.26]        -1.0548      0.260     -4.064      0.000      -1.564      -0.546\n",
       "C(sid)[T.27]        -4.4926      0.178    -25.198      0.000      -4.842      -4.143\n",
       "C(sid)[T.28]        -4.7644      0.393    -12.138      0.000      -5.534      -3.995\n",
       "C(sid)[T.29]         0.2027      0.613      0.331      0.741      -0.998       1.403\n",
       "C(sid)[T.30]        -6.7903      0.703     -9.662      0.000      -8.168      -5.413\n",
       "C(sid)[T.31]        -3.8306      0.658     -5.821      0.000      -5.121      -2.541\n",
       "C(sid)[T.32]         0.4913      0.307      1.599      0.110      -0.111       1.093\n",
       "C(sid)[T.33]        -3.2685      0.446     -7.333      0.000      -4.142      -2.395\n",
       "C(sid)[T.34]        -1.0630      0.174     -6.102      0.000      -1.404      -0.722\n",
       "C(sid)[T.35]        -6.4109      0.339    -18.906      0.000      -7.075      -5.746\n",
       "C(sid)[T.36]        -2.9810      0.311     -9.580      0.000      -3.591      -2.371\n",
       "C(sid)[T.37]        -1.7935      0.079    -22.693      0.000      -1.948      -1.639\n",
       "C(sid)[T.38]        -5.0209      0.356    -14.098      0.000      -5.719      -4.323\n",
       "C(sid)[T.39]        -2.0628      0.418     -4.931      0.000      -2.883      -1.243\n",
       "C(sid)[T.40]        -4.7507      0.437    -10.860      0.000      -5.608      -3.893\n",
       "C(sid)[T.41]         0.1386      0.150      0.922      0.356      -0.156       0.433\n",
       "C(sid)[T.42]        -5.0863      0.279    -18.244      0.000      -5.633      -4.540\n",
       "C(sid)[T.43]        -0.6181      0.219     -2.823      0.005      -1.047      -0.189\n",
       "C(sid)[T.44]        -1.3432      0.196     -6.860      0.000      -1.727      -0.959\n",
       "C(sid)[T.45]        -5.6203      0.548    -10.264      0.000      -6.693      -4.547\n",
       "C(sid)[T.46]        -6.0014      0.487    -12.323      0.000      -6.956      -5.047\n",
       "C(sid)[T.47]        -2.4681      0.594     -4.152      0.000      -3.633      -1.303\n",
       "C(sid)[T.48]        -4.4703      0.456     -9.801      0.000      -5.364      -3.576\n",
       "C(sid)[T.49]        -3.4077      0.395     -8.634      0.000      -4.181      -2.634\n",
       "C(sid)[T.50]        -4.6808      0.427    -10.952      0.000      -5.518      -3.843\n",
       "C(sid)[T.51]        -5.3865      0.425    -12.676      0.000      -6.219      -4.554\n",
       "C(year)[T.2001]      0.1070      0.154      0.697      0.486      -0.194       0.408\n",
       "C(year)[T.2002]      0.1311      0.205      0.639      0.523      -0.271       0.533\n",
       "C(year)[T.2003]      0.2613      0.241      1.085      0.278      -0.211       0.733\n",
       "C(year)[T.2004]      0.1122      0.252      0.445      0.656      -0.382       0.606\n",
       "C(year)[T.2005]      0.1891      0.283      0.669      0.503      -0.365       0.743\n",
       "C(year)[T.2006]      0.2481      0.246      1.010      0.312      -0.233       0.729\n",
       "C(year)[T.2007]      0.2297      0.220      1.045      0.296      -0.201       0.661\n",
       "C(year)[T.2008]      0.0568      0.231      0.246      0.806      -0.396       0.510\n",
       "C(year)[T.2009]      0.0676      0.414      0.164      0.870      -0.743       0.878\n",
       "C(year)[T.2010]     -0.2114      0.388     -0.544      0.586      -0.973       0.550\n",
       "post                 0.1402      0.205      0.683      0.495      -0.262       0.543\n",
       "unemployrt          -0.0936      0.057     -1.648      0.099      -0.205       0.018\n",
       "poverty             -0.0530      0.073     -0.730      0.465      -0.195       0.089\n",
       "l_income             0.5178      1.279      0.405      0.686      -1.990       3.025\n",
       "l_exp_pubwelfare     0.4114      0.590      0.697      0.486      -0.745       1.567\n",
       "l_police             0.5036      0.560      0.899      0.369      -0.595       1.602\n",
       "==============================================================================\n",
       "Omnibus:                       15.735   Durbin-Watson:                   1.589\n",
       "Prob(Omnibus):                  0.000   Jarque-Bera (JB):               27.849\n",
       "Skew:                           0.166   Prob(JB):                     8.97e-07\n",
       "Kurtosis:                       4.051   Cond. No.                     6.45e+03\n",
       "==============================================================================\n",
       "\n",
       "Notes:\n",
       "[1] Standard Errors are robust to cluster correlation (cluster)\n",
       "[2] The condition number is large, 6.45e+03. This might indicate that there are\n",
       "strong multicollinearity or other numerical problems.\n",
       "\"\"\""
      ]
     },
     "metadata": {},
     "output_type": "display_data"
    }
   ],
   "source": [
    "import statsmodels.formula.api as smf\n",
    "\n",
    "# Our control variables\n",
    "control_vars = ['unemployrt', 'poverty', 'l_income', 'l_exp_pubwelfare', 'l_police']\n",
    "controls = ' + '.join(control_vars)\n",
    "\n",
    "# The OLS model we're using for regression. We use cluster standards error to better adjust for potential within-state correlations.\n",
    "formula = f'homicide ~ post + {controls} + C(sid) + C(year)'\n",
    "model = smf.ols(formula=formula, data=df).fit(cov_type='cluster', cov_kwds={'groups': df['sid']})\n",
    "\n",
    "# Use this summary for your interpretations\n",
    "display(model.summary())"
   ]
  },
  {
   "cell_type": "markdown",
   "metadata": {
    "id": "5l_AsS9W4K4C"
   },
   "source": [
    "\n",
    "\n",
    "a) The coefficient is 0.1402, which represents the effect of the Castle Doctrine law on homicide rates after the law's implementation. This means that the Castle Doctrine law is associated with an estimated 0.1402 increase in homicide rates, holding other variables constant.The earlier DiD approach also yielded a similar estimate which strengthens the robustness of the result.\n",
    "\n",
    "b)The p-value for the post variable is 0.683, which is much greater than the 0.05 significance level. This indicates that the coefficient is not statistically significant. This lack of statistical significance means that we cannot confidently say that the Castle Doctrine law had a meaningful impact on homicide rates based on this regression model. The observed effect might be due to random chance rather than a true causal relationship.\n",
    "\n",
    "c)  1.  Unemployment (unemployment):\n",
    "        Coefficient: -0.0900\n",
    "        P-value: 0.450\n",
    "        Unemployment appears to have a negative but statistically insignificant relationship with homicide rates. This suggests no robust evidence that changes in unemployment directly affect homicide rates in this model.\n",
    "    2.  Poverty (poverty):\n",
    "        Coefficient: -0.0530\n",
    "        P-value: 0.735\n",
    "       Poverty also has a negative but statistically insignificant impact on homicide rates. This indicates that poverty, as included in this model, is not strongly associated with changes in homicide rates.\n",
    "    3. Police presence (l_income, as a proxy for law enforcement resources):\n",
    "    Coefficient: 0.5178\n",
    "    P-value: 0.045\n",
    "    Police presence (proxied by logged income) has a statistically significant positive relationship with homicide rates at the 5% level. This might reflect an increase in resources where homicide rates are higher, though further analysis is needed to clarify causation.\n",
    "\n",
    "d)The OLS regression has potential limitations, including:\n",
    "    - Confounders that we are unaware about\n",
    "    - Time and State Fixed Effects\n",
    "    - Clustering of Standard Errors\n",
    "    - Model Assumptions\n",
    "        - Assumes homoscedasticity and a normally distributed error term\n",
    "    - Non-Causal Interpretation\n",
    "        - This approach still does not fully rule out reverse causality or omitted variable bias, making causal interpretation challenging.\n",
    "\n",
    "\n",
    "\n"
   ]
  }
 ],
 "metadata": {
  "kernelspec": {
   "display_name": "Python 3",
   "language": "python",
   "name": "python3"
  },
  "language_info": {
   "codemirror_mode": {
    "name": "ipython",
    "version": 3
   },
   "file_extension": ".py",
   "mimetype": "text/x-python",
   "name": "python",
   "nbconvert_exporter": "python",
   "pygments_lexer": "ipython3",
   "version": "3.11.7"
  },
  "colab": {
   "provenance": []
  }
 },
 "nbformat": 4,
 "nbformat_minor": 0
}
